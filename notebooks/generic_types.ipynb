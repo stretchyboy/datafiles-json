{
 "cells": [
  {
   "cell_type": "markdown",
   "id": "121396b6",
   "metadata": {
    "tags": []
   },
   "source": [
    "# Define a generic type"
   ]
  },
  {
   "cell_type": "code",
   "execution_count": 4,
   "id": "a074beae",
   "metadata": {
    "tags": []
   },
   "outputs": [],
   "source": [
    "%%sh\n",
    "\n",
    "rm -f files/generic_types.json"
   ]
  },
  {
   "cell_type": "code",
   "execution_count": 5,
   "id": "d82f109d",
   "metadata": {
    "tags": []
   },
   "outputs": [],
   "source": [
    "from typing import Generic, List, TypeVar\n",
    "\n",
    "from datafiles import Missing, converters, datafile\n",
    "from datafiles.utils import dedent\n",
    "\n",
    "\n",
    "S = TypeVar(\"S\")\n",
    "T = TypeVar(\"T\")\n",
    "\n",
    "\n",
    "class Pair(Generic[S, T], converters.Converter):\n",
    "    first: S\n",
    "    second: T\n",
    "\n",
    "    def __init__(self, first: S, second: T) -> None:\n",
    "        self.first = first\n",
    "        self.second = second\n",
    "\n",
    "    @classmethod\n",
    "    def to_python_value(cls, deserialized_data, *, target_object=None):\n",
    "        paired = zip(cls.CONVERTERS, deserialized_data)\n",
    "        values = [convert.to_python_value(val) for convert, val in paired]\n",
    "        return cls(*values)\n",
    "\n",
    "    @classmethod\n",
    "    def to_preserialization_data(cls, python_value, *, default_to_skip=None):\n",
    "        values = [python_value.first, python_value.second]\n",
    "        paired = zip(cls.CONVERTERS, values)\n",
    "        return [\n",
    "            convert.to_preserialization_data(val)\n",
    "            for convert, val in paired\n",
    "        ]\n",
    "\n",
    "@datafile(\"files/generic_types.json\")\n",
    "class Dictish:\n",
    "    contents: List[Pair[str, converters.Number]]"
   ]
  },
  {
   "cell_type": "markdown",
   "id": "c116bb1a",
   "metadata": {
    "tags": []
   },
   "source": [
    "# Construct an instance"
   ]
  },
  {
   "cell_type": "code",
   "execution_count": 6,
   "id": "ba2dfc4c",
   "metadata": {
    "tags": []
   },
   "outputs": [
    {
     "data": {
      "text/plain": [
       "Dictish(contents=[<__main__.Pair object at 0x7fd07457e5c0>, <__main__.Pair object at 0x7fd07457c7f0>])"
      ]
     },
     "execution_count": 6,
     "metadata": {},
     "output_type": "execute_result"
    }
   ],
   "source": [
    "Dictish([Pair(\"a\", 1), Pair(\"pi\", 3.14)])"
   ]
  },
  {
   "cell_type": "code",
   "execution_count": 7,
   "id": "8a2010a7",
   "metadata": {
    "tags": []
   },
   "outputs": [
    {
     "name": "stdout",
     "output_type": "stream",
     "text": [
      "{\n",
      "  \"contents\": [\n",
      "    [\n",
      "      \"a\",\n",
      "      1\n",
      "    ],\n",
      "    [\n",
      "      \"pi\",\n",
      "      3.14\n",
      "    ]\n",
      "  ]\n",
      "}"
     ]
    }
   ],
   "source": [
    "%%sh\n",
    "\n",
    "cat files/generic_types.json"
   ]
  }
 ],
 "metadata": {
  "kernelspec": {
   "display_name": "Python 3",
   "language": "python",
   "name": "python3"
  },
  "language_info": {
   "codemirror_mode": {
    "name": "ipython",
    "version": 3
   },
   "file_extension": ".py",
   "mimetype": "text/x-python",
   "name": "python",
   "nbconvert_exporter": "python",
   "pygments_lexer": "ipython3",
   "version": "3.10.12"
  }
 },
 "nbformat": 4,
 "nbformat_minor": 5
}
