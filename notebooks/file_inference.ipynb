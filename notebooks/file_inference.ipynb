{
 "cells": [
  {
   "cell_type": "markdown",
   "id": "8845a361",
   "metadata": {
    "tags": []
   },
   "source": [
    "# Simple"
   ]
  },
  {
   "cell_type": "code",
   "execution_count": 5,
   "id": "07e88e6d",
   "metadata": {
    "tags": []
   },
   "outputs": [
    {
     "name": "stdout",
     "output_type": "stream",
     "text": [
      "Overwriting files/sample.json\n"
     ]
    }
   ],
   "source": [
    "%%writefile files/sample.json\n",
    "\n",
    "{\n",
    "  \"names\": [\n",
    "    \"Alice\",\n",
    "    \"Bob\"\n",
    "  ],\n",
    "  \"numbers\": [\n",
    "    1,\n",
    "    2\n",
    "  ]\n",
    "}"
   ]
  },
  {
   "cell_type": "code",
   "execution_count": 6,
   "id": "7c897e1a",
   "metadata": {
    "tags": []
   },
   "outputs": [
    {
     "ename": "AttributeError",
     "evalue": "'NotImplementedType' object has no attribute 'to_python_value'",
     "output_type": "error",
     "traceback": [
      "\u001b[0;31m---------------------------------------------------------------------------\u001b[0m",
      "\u001b[0;31mAttributeError\u001b[0m                            Traceback (most recent call last)",
      "\u001b[1;32m/home/meggleton/Projects/datafiles-json/notebooks/file_inference.ipynb Cell 3\u001b[0m line \u001b[0;36m3\n\u001b[1;32m      <a href='vscode-notebook-cell:/home/meggleton/Projects/datafiles-json/notebooks/file_inference.ipynb#W2sZmlsZQ%3D%3D?line=0'>1</a>\u001b[0m \u001b[39mfrom\u001b[39;00m \u001b[39mdatafiles\u001b[39;00m \u001b[39mimport\u001b[39;00m auto\n\u001b[0;32m----> <a href='vscode-notebook-cell:/home/meggleton/Projects/datafiles-json/notebooks/file_inference.ipynb#W2sZmlsZQ%3D%3D?line=2'>3</a>\u001b[0m sample \u001b[39m=\u001b[39m auto(\u001b[39m'\u001b[39;49m\u001b[39mfiles/sample.json\u001b[39;49m\u001b[39m'\u001b[39;49m)\n\u001b[1;32m      <a href='vscode-notebook-cell:/home/meggleton/Projects/datafiles-json/notebooks/file_inference.ipynb#W2sZmlsZQ%3D%3D?line=4'>5</a>\u001b[0m sample\u001b[39m.\u001b[39mnames\n",
      "File \u001b[0;32m~/Projects/datafiles-json/datafiles/decorators.py:83\u001b[0m, in \u001b[0;36mauto\u001b[0;34m(filename, **kwargs)\u001b[0m\n\u001b[1;32m     79\u001b[0m     \u001b[39mreturn\u001b[39;00m \u001b[39mf\u001b[39m\u001b[39m\"\u001b[39m\u001b[39m{\u001b[39;00mname\u001b[39m}\u001b[39;00m\u001b[39m(\u001b[39m\u001b[39m{\u001b[39;00mparams\u001b[39m}\u001b[39;00m\u001b[39m)\u001b[39m\u001b[39m\"\u001b[39m\n\u001b[1;32m     81\u001b[0m \u001b[39mcls\u001b[39m \u001b[39m=\u001b[39m \u001b[39mtype\u001b[39m(name, (), {\u001b[39m\"\u001b[39m\u001b[39m__repr__\u001b[39m\u001b[39m\"\u001b[39m: auto_repr})\n\u001b[0;32m---> 83\u001b[0m \u001b[39mreturn\u001b[39;00m datafile(\u001b[39mstr\u001b[39;49m(path), \u001b[39m*\u001b[39;49m\u001b[39m*\u001b[39;49mkwargs)(\u001b[39mcls\u001b[39;49m)()\n",
      "File \u001b[0;32m~/Projects/datafiles-json/datafiles/model.py:85\u001b[0m, in \u001b[0;36mcreate_model.<locals>.modified_init\u001b[0;34m(self, *args, **kwargs)\u001b[0m\n\u001b[1;32m     83\u001b[0m \u001b[39mwith\u001b[39;00m hooks\u001b[39m.\u001b[39mdisabled():\n\u001b[1;32m     84\u001b[0m     init(\u001b[39mself\u001b[39m, \u001b[39m*\u001b[39margs, \u001b[39m*\u001b[39m\u001b[39m*\u001b[39mkwargs)\n\u001b[0;32m---> 85\u001b[0m Model\u001b[39m.\u001b[39;49m__post_init__(\u001b[39mself\u001b[39;49m)\n",
      "File \u001b[0;32m~/Projects/datafiles-json/datafiles/model.py:34\u001b[0m, in \u001b[0;36mModel.__post_init__\u001b[0;34m(self)\u001b[0m\n\u001b[1;32m     31\u001b[0m log\u001b[39m.\u001b[39mdebug(\u001b[39mf\u001b[39m\u001b[39m\"\u001b[39m\u001b[39mDatafile exists: \u001b[39m\u001b[39m{\u001b[39;00mexists\u001b[39m}\u001b[39;00m\u001b[39m\"\u001b[39m)\n\u001b[1;32m     33\u001b[0m \u001b[39mif\u001b[39;00m exists:\n\u001b[0;32m---> 34\u001b[0m     \u001b[39mself\u001b[39;49m\u001b[39m.\u001b[39;49mdatafile\u001b[39m.\u001b[39;49mload(_first_load\u001b[39m=\u001b[39;49m\u001b[39mTrue\u001b[39;49;00m)\n\u001b[1;32m     35\u001b[0m \u001b[39melif\u001b[39;00m path \u001b[39mand\u001b[39;00m create:\n\u001b[1;32m     36\u001b[0m     \u001b[39mself\u001b[39m\u001b[39m.\u001b[39mdatafile\u001b[39m.\u001b[39msave()\n",
      "File \u001b[0;32m~/Projects/datafiles-json/datafiles/mapper.py:195\u001b[0m, in \u001b[0;36mMapper.load\u001b[0;34m(self, _log, _first_load)\u001b[0m\n\u001b[1;32m    192\u001b[0m             \u001b[39mself\u001b[39m\u001b[39m.\u001b[39mattrs[name] \u001b[39m=\u001b[39m \u001b[39mself\u001b[39m\u001b[39m.\u001b[39m_infer_attr(name, value)\n\u001b[1;32m    194\u001b[0m     \u001b[39mfor\u001b[39;00m name, converter \u001b[39min\u001b[39;00m \u001b[39mself\u001b[39m\u001b[39m.\u001b[39mattrs\u001b[39m.\u001b[39mitems():\n\u001b[0;32m--> 195\u001b[0m         \u001b[39mself\u001b[39;49m\u001b[39m.\u001b[39;49m_set_value(\u001b[39mself\u001b[39;49m\u001b[39m.\u001b[39;49m_instance, name, converter, data, _first_load)\n\u001b[1;32m    197\u001b[0m     hooks\u001b[39m.\u001b[39mapply(\u001b[39mself\u001b[39m\u001b[39m.\u001b[39m_instance, \u001b[39mself\u001b[39m)\n\u001b[1;32m    199\u001b[0m \u001b[39mself\u001b[39m\u001b[39m.\u001b[39mmodified \u001b[39m=\u001b[39m \u001b[39mFalse\u001b[39;00m\n",
      "File \u001b[0;32m~/Projects/datafiles-json/datafiles/mapper.py:257\u001b[0m, in \u001b[0;36mMapper._set_value\u001b[0;34m(instance, name, converter, data, first_load)\u001b[0m\n\u001b[1;32m    253\u001b[0m         value \u001b[39m=\u001b[39m converter\u001b[39m.\u001b[39mto_python_value(\n\u001b[1;32m    254\u001b[0m             default_value, target_object\u001b[39m=\u001b[39minit_value\n\u001b[1;32m    255\u001b[0m         )\n\u001b[1;32m    256\u001b[0m \u001b[39melse\u001b[39;00m:\n\u001b[0;32m--> 257\u001b[0m     value \u001b[39m=\u001b[39m converter\u001b[39m.\u001b[39;49mto_python_value(file_value, target_object\u001b[39m=\u001b[39;49minit_value)\n\u001b[1;32m    259\u001b[0m log\u001b[39m.\u001b[39mdebug(\u001b[39mf\u001b[39m\u001b[39m\"\u001b[39m\u001b[39mSetting \u001b[39m\u001b[39m'\u001b[39m\u001b[39m{\u001b[39;00mname\u001b[39m}\u001b[39;00m\u001b[39m'\u001b[39m\u001b[39m value: \u001b[39m\u001b[39m{\u001b[39;00mvalue\u001b[39m!r}\u001b[39;00m\u001b[39m\"\u001b[39m)\n\u001b[1;32m    260\u001b[0m \u001b[39mobject\u001b[39m\u001b[39m.\u001b[39m\u001b[39m__setattr__\u001b[39m(instance, name, value)\n",
      "File \u001b[0;32m~/Projects/datafiles-json/datafiles/converters/containers.py:33\u001b[0m, in \u001b[0;36mList.to_python_value\u001b[0;34m(cls, deserialized_data, target_object)\u001b[0m\n\u001b[1;32m     30\u001b[0m     value \u001b[39m=\u001b[39m target_object\n\u001b[1;32m     31\u001b[0m     value\u001b[39m.\u001b[39mclear()\n\u001b[0;32m---> 33\u001b[0m convert \u001b[39m=\u001b[39m \u001b[39mcls\u001b[39;49m\u001b[39m.\u001b[39;49mCONVERTER\u001b[39m.\u001b[39;49mto_python_value\n\u001b[1;32m     35\u001b[0m \u001b[39mif\u001b[39;00m deserialized_data \u001b[39mis\u001b[39;00m \u001b[39mNone\u001b[39;00m:\n\u001b[1;32m     36\u001b[0m     \u001b[39mpass\u001b[39;00m\n",
      "\u001b[0;31mAttributeError\u001b[0m: 'NotImplementedType' object has no attribute 'to_python_value'"
     ]
    }
   ],
   "source": [
    "from datafiles import auto\n",
    "\n",
    "sample = auto('files/sample.json')\n",
    "\n",
    "sample.names"
   ]
  },
  {
   "cell_type": "code",
   "execution_count": null,
   "id": "63bb2409",
   "metadata": {
    "tags": []
   },
   "outputs": [],
   "source": [
    "sample.numbers.append(3)"
   ]
  },
  {
   "cell_type": "code",
   "execution_count": null,
   "id": "9429b844",
   "metadata": {
    "tags": []
   },
   "outputs": [
    {
     "name": "stdout",
     "output_type": "stream",
     "text": [
      "\n",
      "{\"names\":[\"Alice\", \"Bob\"],\n",
      "\"numbers\": [1,2]}\n"
     ]
    }
   ],
   "source": [
    "%%sh\n",
    "\n",
    "cat files/sample.json"
   ]
  },
  {
   "cell_type": "markdown",
   "id": "a6b718bd",
   "metadata": {
    "tags": []
   },
   "source": [
    "# Complex"
   ]
  },
  {
   "cell_type": "code",
   "execution_count": null,
   "id": "14646062",
   "metadata": {
    "tags": []
   },
   "outputs": [
    {
     "name": "stdout",
     "output_type": "stream",
     "text": [
      "dist: focal\n",
      "\n",
      "language: python\n",
      "python:\n",
      "  - \"3.8\"\n",
      "  - \"3.9\"\n",
      "  - \"3.10\"\n",
      "  - \"3.11\"\n",
      "\n",
      "cache:\n",
      "  pip: true\n",
      "  directories:\n",
      "    - ${VIRTUAL_ENV}\n",
      "\n",
      "before_install:\n",
      "  - curl -sSL https://raw.githubusercontent.com/python-poetry/poetry/master/install-poetry.py | python -\n",
      "  - make doctor\n",
      "\n",
      "install:\n",
      "  - make install\n",
      "\n",
      "script:\n",
      "  - make test-repeat\n",
      "  - make check\n",
      "  # TODO: Get targets working with Python 3.10\n",
      "  # - make notebooks\n",
      "  # - make mkdocs\n",
      "\n",
      "after_success:\n",
      "  - pip install coveralls\n",
      "  - coveralls\n",
      "\n",
      "notifications:\n",
      "  email:\n",
      "    on_success: never\n",
      "    on_failure: never\n"
     ]
    }
   ],
   "source": [
    "%%sh\n",
    "\n",
    "cp -f ../.travis.yml files/travis.yml\n",
    "\n",
    "cat files/travis.yml"
   ]
  },
  {
   "cell_type": "code",
   "execution_count": null,
   "id": "9361e912",
   "metadata": {
    "tags": []
   },
   "outputs": [],
   "source": [
    "from datafiles import auto\n",
    "\n",
    "travis = auto(\"files/travis.yml\")"
   ]
  },
  {
   "cell_type": "code",
   "execution_count": null,
   "id": "6c437564",
   "metadata": {
    "tags": []
   },
   "outputs": [],
   "source": [
    "travis.install.append(\"echo 123 # <= This line is new\")"
   ]
  },
  {
   "cell_type": "code",
   "execution_count": null,
   "id": "edb647e0",
   "metadata": {
    "tags": []
   },
   "outputs": [
    {
     "name": "stdout",
     "output_type": "stream",
     "text": [
      "dist: focal\n",
      "\n",
      "language: python\n",
      "python:\n",
      "  - '3.8'\n",
      "  - '3.9'\n",
      "  - '3.10'\n",
      "  - '3.11'\n",
      "cache:\n",
      "  pip: true\n",
      "  directories:\n",
      "    - ${VIRTUAL_ENV}\n",
      "\n",
      "before_install:\n",
      "  - curl -sSL https://raw.githubusercontent.com/python-poetry/poetry/master/install-poetry.py\n",
      "    | python -\n",
      "  - make doctor\n",
      "install:\n",
      "  - make install\n",
      "  - 'echo 123 # <= This line is new'\n",
      "script:\n",
      "  - make test-repeat\n",
      "  - make check\n",
      "after_success:\n",
      "  - pip install coveralls\n",
      "  - coveralls\n",
      "notifications:\n",
      "  email:\n",
      "    on_success: never\n",
      "    on_failure: never\n"
     ]
    }
   ],
   "source": [
    "%%sh\n",
    "\n",
    "cat files/travis.yml"
   ]
  }
 ],
 "metadata": {
  "kernelspec": {
   "display_name": "Python 3",
   "language": "python",
   "name": "python3"
  },
  "language_info": {
   "codemirror_mode": {
    "name": "ipython",
    "version": 3
   },
   "file_extension": ".py",
   "mimetype": "text/x-python",
   "name": "python",
   "nbconvert_exporter": "python",
   "pygments_lexer": "ipython3",
   "version": "3.10.12"
  }
 },
 "nbformat": 4,
 "nbformat_minor": 5
}
