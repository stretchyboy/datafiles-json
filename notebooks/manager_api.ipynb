{
 "cells": [
  {
   "cell_type": "code",
   "execution_count": 1,
   "id": "c8470333",
   "metadata": {
    "tags": []
   },
   "outputs": [],
   "source": [
    "%%sh\n",
    "\n",
    "rm -rf my_models"
   ]
  },
  {
   "cell_type": "code",
   "execution_count": 2,
   "id": "2d3c576d",
   "metadata": {
    "tags": []
   },
   "outputs": [],
   "source": [
    "from datafiles import datafile\n",
    "\n",
    "@datafile(\"my_models/{self.my_key}.json\")\n",
    "class MyModel:\n",
    "\n",
    "    my_key: str\n",
    "    my_value: int = 0"
   ]
  },
  {
   "cell_type": "code",
   "execution_count": 3,
   "id": "a7070e39",
   "metadata": {
    "tags": []
   },
   "outputs": [
    {
     "data": {
      "text/plain": [
       "MyModel(my_key='foo', my_value=0)"
      ]
     },
     "execution_count": 3,
     "metadata": {},
     "output_type": "execute_result"
    }
   ],
   "source": [
    "MyModel('foo')"
   ]
  },
  {
   "cell_type": "markdown",
   "id": "03410810",
   "metadata": {
    "tags": []
   },
   "source": [
    "# `get_or_none(*args, **kwargs)`"
   ]
  },
  {
   "cell_type": "code",
   "execution_count": 4,
   "id": "f84d11f8",
   "metadata": {
    "tags": []
   },
   "outputs": [
    {
     "data": {
      "text/plain": [
       "MyModel(my_key='foo', my_value=0)"
      ]
     },
     "execution_count": 4,
     "metadata": {},
     "output_type": "execute_result"
    }
   ],
   "source": [
    "MyModel.objects.get_or_none('foo')"
   ]
  },
  {
   "cell_type": "code",
   "execution_count": 5,
   "id": "fa9a86e0",
   "metadata": {
    "tags": []
   },
   "outputs": [
    {
     "ename": "AttributeError",
     "evalue": "'FileNotFoundError' object has no attribute 'problem'",
     "output_type": "error",
     "traceback": [
      "\u001b[0;31m---------------------------------------------------------------------------\u001b[0m",
      "\u001b[0;31mFileNotFoundError\u001b[0m                         Traceback (most recent call last)",
      "File \u001b[0;32m~/Projects/datafiles-json/datafiles/manager.py:78\u001b[0m, in \u001b[0;36mManager.get\u001b[0;34m(self, *args, **kwargs)\u001b[0m\n\u001b[1;32m     77\u001b[0m \u001b[39mtry\u001b[39;00m:\n\u001b[0;32m---> 78\u001b[0m     instance\u001b[39m.\u001b[39;49mdatafile\u001b[39m.\u001b[39;49mload(_first_load\u001b[39m=\u001b[39;49m\u001b[39mTrue\u001b[39;49;00m)\n\u001b[1;32m     79\u001b[0m \u001b[39m#except MarkedYAMLError as e:\u001b[39;00m\n",
      "File \u001b[0;32m~/Projects/datafiles-json/datafiles/mapper.py:184\u001b[0m, in \u001b[0;36mMapper.load\u001b[0;34m(self, _log, _first_load)\u001b[0m\n\u001b[1;32m    182\u001b[0m     \u001b[39mraise\u001b[39;00m \u001b[39mRuntimeError\u001b[39;00m(\u001b[39m\"\u001b[39m\u001b[39m'\u001b[39m\u001b[39mpattern\u001b[39m\u001b[39m'\u001b[39m\u001b[39m must be set to load the model\u001b[39m\u001b[39m\"\u001b[39m)\n\u001b[0;32m--> 184\u001b[0m data \u001b[39m=\u001b[39m formats\u001b[39m.\u001b[39;49mdeserialize(\u001b[39mself\u001b[39;49m\u001b[39m.\u001b[39;49mpath, \u001b[39mself\u001b[39;49m\u001b[39m.\u001b[39;49mpath\u001b[39m.\u001b[39;49msuffix)\n\u001b[1;32m    185\u001b[0m \u001b[39mself\u001b[39m\u001b[39m.\u001b[39m_last_data \u001b[39m=\u001b[39m data\n",
      "File \u001b[0;32m~/Projects/datafiles-json/datafiles/formats.py:121\u001b[0m, in \u001b[0;36mdeserialize\u001b[0;34m(path, extension, formatter)\u001b[0m\n\u001b[1;32m    120\u001b[0m     formatter \u001b[39m=\u001b[39m _get_formatter(extension)\n\u001b[0;32m--> 121\u001b[0m \u001b[39mwith\u001b[39;00m path\u001b[39m.\u001b[39;49mopen(\u001b[39m\"\u001b[39;49m\u001b[39mr\u001b[39;49m\u001b[39m\"\u001b[39;49m) \u001b[39mas\u001b[39;00m file_object:\n\u001b[1;32m    122\u001b[0m     data \u001b[39m=\u001b[39m formatter\u001b[39m.\u001b[39mdeserialize(file_object)\n",
      "File \u001b[0;32m/usr/lib/python3.10/pathlib.py:1119\u001b[0m, in \u001b[0;36mPath.open\u001b[0;34m(self, mode, buffering, encoding, errors, newline)\u001b[0m\n\u001b[1;32m   1118\u001b[0m     encoding \u001b[39m=\u001b[39m io\u001b[39m.\u001b[39mtext_encoding(encoding)\n\u001b[0;32m-> 1119\u001b[0m \u001b[39mreturn\u001b[39;00m \u001b[39mself\u001b[39;49m\u001b[39m.\u001b[39;49m_accessor\u001b[39m.\u001b[39;49mopen(\u001b[39mself\u001b[39;49m, mode, buffering, encoding, errors,\n\u001b[1;32m   1120\u001b[0m                            newline)\n",
      "\u001b[0;31mFileNotFoundError\u001b[0m: [Errno 2] No such file or directory: '/home/meggleton/Projects/datafiles-json/notebooks/my_models/bar.json'",
      "\nDuring handling of the above exception, another exception occurred:\n",
      "\u001b[0;31mAttributeError\u001b[0m                            Traceback (most recent call last)",
      "\u001b[1;32m/home/meggleton/Projects/datafiles-json/notebooks/manager_api.ipynb Cell 6\u001b[0m line \u001b[0;36m1\n\u001b[0;32m----> <a href='vscode-notebook-cell:/home/meggleton/Projects/datafiles-json/notebooks/manager_api.ipynb#W5sZmlsZQ%3D%3D?line=0'>1</a>\u001b[0m item \u001b[39m=\u001b[39m MyModel\u001b[39m.\u001b[39;49mobjects\u001b[39m.\u001b[39;49mget_or_none(\u001b[39m'\u001b[39;49m\u001b[39mbar\u001b[39;49m\u001b[39m'\u001b[39;49m)\n\u001b[1;32m      <a href='vscode-notebook-cell:/home/meggleton/Projects/datafiles-json/notebooks/manager_api.ipynb#W5sZmlsZQ%3D%3D?line=2'>3</a>\u001b[0m \u001b[39massert\u001b[39;00m item \u001b[39mis\u001b[39;00m \u001b[39mNone\u001b[39;00m\n",
      "File \u001b[0;32m~/Projects/datafiles-json/datafiles/manager.py:97\u001b[0m, in \u001b[0;36mManager.get_or_none\u001b[0;34m(self, *args, **kwargs)\u001b[0m\n\u001b[1;32m     95\u001b[0m \u001b[39mdef\u001b[39;00m \u001b[39mget_or_none\u001b[39m(\u001b[39mself\u001b[39m, \u001b[39m*\u001b[39margs, \u001b[39m*\u001b[39m\u001b[39m*\u001b[39mkwargs) \u001b[39m-\u001b[39m\u001b[39m>\u001b[39m Optional[Model]:\n\u001b[1;32m     96\u001b[0m     \u001b[39mtry\u001b[39;00m:\n\u001b[0;32m---> 97\u001b[0m         \u001b[39mreturn\u001b[39;00m \u001b[39mself\u001b[39;49m\u001b[39m.\u001b[39;49mget(\u001b[39m*\u001b[39;49margs, \u001b[39m*\u001b[39;49m\u001b[39m*\u001b[39;49mkwargs)\n\u001b[1;32m     98\u001b[0m     \u001b[39mexcept\u001b[39;00m \u001b[39mFileNotFoundError\u001b[39;00m:\n\u001b[1;32m     99\u001b[0m         log\u001b[39m.\u001b[39minfo(\u001b[39m\"\u001b[39m\u001b[39mFile not found\u001b[39m\u001b[39m\"\u001b[39m)\n",
      "File \u001b[0;32m~/Projects/datafiles-json/datafiles/manager.py:82\u001b[0m, in \u001b[0;36mManager.get\u001b[0;34m(self, *args, **kwargs)\u001b[0m\n\u001b[1;32m     79\u001b[0m \u001b[39m#except MarkedYAMLError as e:\u001b[39;00m\n\u001b[1;32m     80\u001b[0m \u001b[39mexcept\u001b[39;00m \u001b[39mException\u001b[39;00m \u001b[39mas\u001b[39;00m e:\n\u001b[1;32m     81\u001b[0m     log\u001b[39m.\u001b[39mcritical(\n\u001b[0;32m---> 82\u001b[0m         \u001b[39mf\u001b[39m\u001b[39m\"\u001b[39m\u001b[39mDeleting invalid YAML: \u001b[39m\u001b[39m{\u001b[39;00minstance\u001b[39m.\u001b[39mdatafile\u001b[39m.\u001b[39mpath\u001b[39m}\u001b[39;00m\u001b[39m (\u001b[39m\u001b[39m{\u001b[39;00me\u001b[39m.\u001b[39;49mproblem\u001b[39m}\u001b[39;00m\u001b[39m)\u001b[39m\u001b[39m\"\u001b[39m\n\u001b[1;32m     83\u001b[0m     )\n\u001b[1;32m     84\u001b[0m     instance\u001b[39m.\u001b[39mdatafile\u001b[39m.\u001b[39mpath\u001b[39m.\u001b[39munlink()\n\u001b[1;32m     85\u001b[0m     instance\u001b[39m.\u001b[39mdatafile\u001b[39m.\u001b[39mload()\n",
      "\u001b[0;31mAttributeError\u001b[0m: 'FileNotFoundError' object has no attribute 'problem'"
     ]
    }
   ],
   "source": [
    "item = MyModel.objects.get_or_none('bar')\n",
    "\n",
    "assert item is None"
   ]
  },
  {
   "cell_type": "markdown",
   "id": "2125244a",
   "metadata": {
    "tags": []
   },
   "source": [
    "# `get_or_create(*args, **kwags)`"
   ]
  },
  {
   "cell_type": "code",
   "execution_count": null,
   "id": "44f92e37",
   "metadata": {
    "tags": []
   },
   "outputs": [
    {
     "data": {
      "text/plain": [
       "MyModel(my_key='bar', my_value=42)"
      ]
     },
     "execution_count": null,
     "metadata": {},
     "output_type": "execute_result"
    }
   ],
   "source": [
    "MyModel.objects.get_or_create('bar', 42)"
   ]
  },
  {
   "cell_type": "code",
   "execution_count": null,
   "id": "2ff6ecda",
   "metadata": {
    "tags": []
   },
   "outputs": [
    {
     "data": {
      "text/plain": [
       "MyModel(my_key='bar', my_value=42)"
      ]
     },
     "execution_count": null,
     "metadata": {},
     "output_type": "execute_result"
    }
   ],
   "source": [
    "MyModel.objects.get_or_create('bar')"
   ]
  },
  {
   "cell_type": "markdown",
   "id": "b479d13a",
   "metadata": {
    "tags": []
   },
   "source": [
    "# `all()`"
   ]
  },
  {
   "cell_type": "code",
   "execution_count": null,
   "id": "1e67c797",
   "metadata": {
    "tags": []
   },
   "outputs": [
    {
     "data": {
      "text/plain": [
       "[MyModel(my_key='foo', my_value=0), MyModel(my_key='bar', my_value=42)]"
      ]
     },
     "execution_count": null,
     "metadata": {},
     "output_type": "execute_result"
    }
   ],
   "source": [
    "generator = MyModel.objects.all()\n",
    "\n",
    "list(generator)"
   ]
  },
  {
   "cell_type": "markdown",
   "id": "c00bfa34",
   "metadata": {
    "tags": []
   },
   "source": [
    "# `filter(**kwargs)`"
   ]
  },
  {
   "cell_type": "code",
   "execution_count": null,
   "id": "2455c2b4",
   "metadata": {
    "tags": []
   },
   "outputs": [
    {
     "data": {
      "text/plain": [
       "[MyModel(my_key='bar', my_value=42)]"
      ]
     },
     "execution_count": null,
     "metadata": {},
     "output_type": "execute_result"
    }
   ],
   "source": [
    "generator = MyModel.objects.filter(my_value=42)\n",
    "\n",
    "list(generator)"
   ]
  }
 ],
 "metadata": {
  "kernelspec": {
   "display_name": "Python 3",
   "language": "python",
   "name": "python3"
  },
  "language_info": {
   "codemirror_mode": {
    "name": "ipython",
    "version": 3
   },
   "file_extension": ".py",
   "mimetype": "text/x-python",
   "name": "python",
   "nbconvert_exporter": "python",
   "pygments_lexer": "ipython3",
   "version": "3.10.12"
  }
 },
 "nbformat": 4,
 "nbformat_minor": 5
}
