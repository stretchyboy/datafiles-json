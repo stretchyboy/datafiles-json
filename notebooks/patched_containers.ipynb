{
 "cells": [
  {
   "cell_type": "code",
   "execution_count": 1,
   "id": "e7754554",
   "metadata": {
    "tags": []
   },
   "outputs": [],
   "source": [
    "%%sh\n",
    "\n",
    "rm -f files/patched_containers.json"
   ]
  },
  {
   "cell_type": "code",
   "execution_count": 2,
   "id": "96813367",
   "metadata": {
    "tags": []
   },
   "outputs": [
    {
     "name": "stderr",
     "output_type": "stream",
     "text": [
      "Schema enforcement not possible with 'Dict' annotation\n"
     ]
    }
   ],
   "source": [
    "from typing import List, Dict\n",
    "\n",
    "from datafiles import datafile, field\n",
    "\n",
    "@datafile('files/patched_containers.json')\n",
    "class Sample:\n",
    "    items: List[float] = field(default_factory=list)\n",
    "    data: Dict[str, int] = field(default_factory=dict)\n",
    "        \n",
    "sample = Sample()"
   ]
  },
  {
   "cell_type": "markdown",
   "id": "b89bc91b",
   "metadata": {
    "tags": []
   },
   "source": [
    "# Lists"
   ]
  },
  {
   "cell_type": "code",
   "execution_count": 3,
   "id": "bfa52e1e",
   "metadata": {
    "tags": []
   },
   "outputs": [],
   "source": [
    "sample.items.append(1)\n",
    "sample.items.append(2.3)"
   ]
  },
  {
   "cell_type": "code",
   "execution_count": 4,
   "id": "3adfe829",
   "metadata": {
    "tags": []
   },
   "outputs": [
    {
     "name": "stdout",
     "output_type": "stream",
     "text": [
      "{\n",
      "  \"items\": [\n",
      "    1.0,\n",
      "    2.3\n",
      "  ]\n",
      "}"
     ]
    }
   ],
   "source": [
    "%%sh\n",
    "\n",
    "cat files/patched_containers.json"
   ]
  },
  {
   "cell_type": "code",
   "execution_count": 5,
   "id": "2773c5a6",
   "metadata": {
    "tags": []
   },
   "outputs": [],
   "source": [
    "sample.items.insert(0, 4)"
   ]
  },
  {
   "cell_type": "code",
   "execution_count": 6,
   "id": "6ec8a7a8",
   "metadata": {
    "tags": []
   },
   "outputs": [
    {
     "name": "stdout",
     "output_type": "stream",
     "text": [
      "{\n",
      "  \"items\": [\n",
      "    4.0,\n",
      "    1.0,\n",
      "    2.3\n",
      "  ]\n",
      "}"
     ]
    }
   ],
   "source": [
    "%%sh\n",
    "\n",
    "cat files/patched_containers.json"
   ]
  },
  {
   "cell_type": "code",
   "execution_count": 7,
   "id": "d535cf08",
   "metadata": {
    "tags": []
   },
   "outputs": [],
   "source": [
    "sample.items.remove(1.0)"
   ]
  },
  {
   "cell_type": "code",
   "execution_count": 8,
   "id": "a739cc7e",
   "metadata": {
    "tags": []
   },
   "outputs": [
    {
     "name": "stdout",
     "output_type": "stream",
     "text": [
      "{\n",
      "  \"items\": [\n",
      "    4.0,\n",
      "    2.3\n",
      "  ]\n",
      "}"
     ]
    }
   ],
   "source": [
    "%%sh\n",
    "\n",
    "cat files/patched_containers.json"
   ]
  },
  {
   "cell_type": "markdown",
   "id": "05a82212",
   "metadata": {
    "tags": []
   },
   "source": [
    "# Dictionaries"
   ]
  },
  {
   "cell_type": "code",
   "execution_count": 9,
   "id": "2cae7128",
   "metadata": {
    "tags": []
   },
   "outputs": [],
   "source": [
    "sample.data.update(a=1, b=2)"
   ]
  },
  {
   "cell_type": "code",
   "execution_count": 10,
   "id": "d2723e25",
   "metadata": {
    "tags": []
   },
   "outputs": [
    {
     "name": "stdout",
     "output_type": "stream",
     "text": [
      "{\n",
      "  \"items\": [\n",
      "    4.0,\n",
      "    2.3\n",
      "  ],\n",
      "  \"data\": {\n",
      "    \"a\": 1,\n",
      "    \"b\": 2\n",
      "  }\n",
      "}"
     ]
    }
   ],
   "source": [
    "%%sh\n",
    "\n",
    "cat files/patched_containers.json"
   ]
  },
  {
   "cell_type": "code",
   "execution_count": 11,
   "id": "5b86a403",
   "metadata": {
    "tags": []
   },
   "outputs": [],
   "source": [
    "sample.data['c'] = 3"
   ]
  },
  {
   "cell_type": "code",
   "execution_count": 12,
   "id": "e823a7fd",
   "metadata": {
    "tags": []
   },
   "outputs": [
    {
     "name": "stdout",
     "output_type": "stream",
     "text": [
      "{\n",
      "  \"items\": [\n",
      "    4.0,\n",
      "    2.3\n",
      "  ],\n",
      "  \"data\": {\n",
      "    \"a\": 1,\n",
      "    \"b\": 2,\n",
      "    \"c\": 3\n",
      "  }\n",
      "}"
     ]
    }
   ],
   "source": [
    "%%sh\n",
    "\n",
    "cat files/patched_containers.json"
   ]
  },
  {
   "cell_type": "code",
   "execution_count": 13,
   "id": "3b052df7",
   "metadata": {
    "tags": []
   },
   "outputs": [
    {
     "data": {
      "text/plain": [
       "2"
      ]
     },
     "execution_count": 13,
     "metadata": {},
     "output_type": "execute_result"
    }
   ],
   "source": [
    "sample.data.pop('b')"
   ]
  },
  {
   "cell_type": "code",
   "execution_count": 14,
   "id": "b71d94f4",
   "metadata": {
    "tags": []
   },
   "outputs": [
    {
     "name": "stdout",
     "output_type": "stream",
     "text": [
      "{\n",
      "  \"items\": [\n",
      "    4.0,\n",
      "    2.3\n",
      "  ],\n",
      "  \"data\": {\n",
      "    \"a\": 1,\n",
      "    \"c\": 3\n",
      "  }\n",
      "}"
     ]
    }
   ],
   "source": [
    "%%sh\n",
    "\n",
    "cat files/patched_containers.json"
   ]
  },
  {
   "cell_type": "code",
   "execution_count": null,
   "id": "e74be64d",
   "metadata": {
    "tags": []
   },
   "outputs": [],
   "source": []
  }
 ],
 "metadata": {
  "kernelspec": {
   "display_name": "Python 3",
   "language": "python",
   "name": "python3"
  },
  "language_info": {
   "codemirror_mode": {
    "name": "ipython",
    "version": 3
   },
   "file_extension": ".py",
   "mimetype": "text/x-python",
   "name": "python",
   "nbconvert_exporter": "python",
   "pygments_lexer": "ipython3",
   "version": "3.10.12"
  }
 },
 "nbformat": 4,
 "nbformat_minor": 5
}
